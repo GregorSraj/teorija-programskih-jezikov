{
 "cells": [
  {
   "cell_type": "markdown",
   "id": "56b00fe3",
   "metadata": {},
   "source": [
    "# Vaje"
   ]
  },
  {
   "cell_type": "code",
   "execution_count": 1,
   "id": "8fc21e7c",
   "metadata": {
    "tags": [
     "remove-cell",
     "remove-stdout"
    ]
   },
   "outputs": [],
   "source": [
    "(* Ko se v Jupytru prvič požene OCaml, program Findlib izpiše neko sporočilo.\n",
    "   Da se to sporočilo ne bi videlo v zapiskih, je tu ta celica, ki sproži izpis,\n",
    "   vendar ima nastavljeno, da je v zapiskih v celoti skrita. *)"
   ]
  },
  {
   "cell_type": "markdown",
   "id": "fd8c1837",
   "metadata": {},
   "source": [
    "## Naloga 1\n",
    "\n",
    "Izpeljite in rešite enačbe za izpeljavo tipov naslednjih programov:\n",
    "\n",
    "1. `|- (fun x -> x * x) 14`\n",
    "2. `f : α, v : bool |- if f v then 1 else 0`\n",
    "3. `g : bool -> α |- (fun f -> f (g true)) (fun x -> x + 2)`\n",
    "\n",
    "Preverite, ali vrstni red enačb vpliva na rezultat. Ugotovite kje se pojavi problem pri določanju tipa funkcije `fun f -> f f`.\n",
    "\n",
    "## Naloga 2\n",
    "\n",
    "**Algoritem za izpeljavo tipov dopolnite za: rekurzijo, pare, vsote in sezname.**\n",
    "\n",
    "Kot pri dodajanju novih pravil za tipe moramo za vsak nov sintaktični konstrukt dodati pravilo za izpeljavo tipa in dodatne enačbe.\n",
    "Glede na dodajanje novih enačb moramo tudi posodobiti pravila za reševanje sistema enačb.\n",
    "\n",
    "$$\n",
    "\n",
    "    \\infer{\n",
    "        \\Gamma, f : \\alpha \\to \\beta, x : \\alpha \\vdash M : B \\mid \\eqs\n",
    "    }{\n",
    "        \\Gamma \\vdash \\kwdpre{rec} f \\, x . M : \\alpha \\to \\beta \\mid \\alpha = A, \\beta  = B, \\eqs\n",
    "    }\n",
    "\n",
    "    \\infer{\\Gamma \\vdash M_1 : A_1 \\mid \\eqs_q \\qquad \\Gamma \\vdash M_2 : A_2 \\mid \\eqs_2}{\\Gamma \\vdash (M_1, M_2) : \\alpha_1 \\times \\alpha_2 \\mid \\alpha_1 = A_1, \\alpha_2 = A_2, \\eqs_1, \\eqs_2}\n",
    "\n",
    "    \\infer{\\Gamma \\vdash M : A \\mid \\eqs}{\\Gamma \\vdash \\fst M : \\alpha_1 \\mid \\alpha_1 \\times \\alpha_2 = A, \\eqs}\n",
    "\n",
    "    \\infer{\\Gamma \\vdash M : A \\mid \\eqs}{\\Gamma \\vdash \\fst M : \\alpha_2 \\mid \\alpha_1 \\times \\alpha_2 = A, \\eqs}\n",
    "\n",
    "    \\infer{\\Gamma \\vdash M : A_1 \\mid \\eqs}{\\Gamma \\vdash \\inl M : \\alpha \\mid \\alpha = A_1 + \\alpha_2, \\eqs}\n",
    "\n",
    "    \\infer{\\Gamma \\vdash M : A_2 \\mid \\eqs}{\\Gamma \\vdash \\inr M : \\alpha \\mid \\alpha = \\alpha_1 + A_2, \\eqs}\n",
    "\n",
    "    \\infer{\\Gamma \\vdash M : A \\mid \\eqs \\qquad \\Gamma, x_1 : \\alpha_1 \\vdash M_1 : B_1 \\mid \\eqs_1 \\qquad \\Gamma, x_2 : \\alpha_2 \\vdash M_2 : B_2 \\mid \\eqs_2}{\\Gamma \\vdash \\matchsum{M}{x_1}{M_1}{x_2}{M_2} : \\beta \\mid \\beta = B_1, \\beta = B_2, \\alpha_1 + \\alpha_2 = A, \\eqs, \\eqs_1, \\eqs_2}\n",
    "\n",
    "    \\infer{}{\\Gamma \\vdash [] : \\kwdpre{list} \\alpha \\mid \\emptyset}\n",
    "\n",
    "    \\infer{\\Gamma \\vdash M_1 : A_1 \\mid \\eqs_1  \\qquad \\Gamma \\vdash M_2 : A_2 \\mid \\eqs_2}{\\Gamma \\vdash M_1 :: M_2 : \\alpha \\mid \\alpha = \\kwdpre{list} A_1, \\alpha = A_2, \\eqs_1, \\eqs_2}\n",
    "\n",
    "    \\infer{\\Gamma \\vdash M : A \\mid \\eqs_1 \\qquad \\Gamma \\vdash M_1 : A_1 \\mid \\eqs_2 \\qquad \\Gamma, x_1 : \\alpha_1, x_2 : \\alpha_2 \\vdash M_2 : A_2 \\mid \\eqs_3}{\\Gamma \\vdash \\matchlist{M}{M_1}{x_1}{x_2}{M_2} : \\alpha \\mid \\alpha = A_1, \\alpha = A_2, A = \\kwdpre{list} \\alpha_1, A = \\alpha_2, \\eqs_1, \\eqs_2, \\eqs_3}\n",
    "$$\n",
    "\n",
    "Možnosti za dodajanje pravil je več, pri nekaterih lahko že nekoliko rešimo enačbe, lahko pa sestavimo bolj splošna pravila in reševanje enačb prepustimo algoritmu za reševanje.\n",
    "Vseeno pa je treba biti pozoren, napačno pravilo za konstrukcijo seznama bi namreč bilo\n",
    "\n",
    "$$\n",
    "    \\infer{\\Gamma \\vdash M_1 : A_1 \\mid \\eqs_1  \\qquad \\Gamma \\vdash M_2 : \\kwdpre{list} A_2 \\mid \\eqs_2}{\\Gamma \\vdash M_1 :: M_2 : \\alpha \\mid \\alpha = \\kwdpre{list} A_1, \\alpha = \\kwdpre{list} A_2, \\eqs_1, \\eqs_2}\n",
    "$$\n",
    "\n",
    "saj bi v primeru konstrukcije seznama `1 :: []` za tip `[]` dobili $\\alpha'$, ki pa ni oblike $\\kwdpre{list} A$ in tipa ne bi mogli izpeljati.\n",
    "\n",
    "Dodatna pravila za reševanje enačb so potrebna zato, da lahko razrešimo nove oblike tipov, ki smo jih uvedli.\n",
    "\n",
    "$$\n",
    "\\infer{\n",
    "  A_1 = B_1, A_2 = B_2, \\eqs \\searrow \\sigma\n",
    "}{\n",
    "  A_1 \\times A_2 = B_1 \\times B_2, \\eqs \\searrow \\sigma\n",
    "}\\\\[2em]\n",
    "\n",
    "\\infer{\n",
    "  A_1 = B_1, A_2 = B_2, \\eqs \\searrow \\sigma\n",
    "}{\n",
    "  A_1 + A_2 = B_1 + B_2, \\eqs \\searrow \\sigma\n",
    "}\\\\[2em]\n",
    "\n",
    "\\infer{\n",
    "  A = B, \\eqs \\searrow \\sigma\n",
    "}{\n",
    "  \\kwdpre{list} A = \\kwdpre{list} B, \\eqs \\searrow \\sigma\n",
    "}\n",
    "$$\n",
    "\n",
    "Posodobiti pa moramo tudi funkcijo $fv$ kot\n",
    "\n",
    "$$\n",
    "  fv(A_1 \\times A_2) = fv(A_1) \\cup fv(A_2) \\qquad fv(A_1 + A_2) = fv(A_1) \\cup fv(A_2) \\qquad fv(\\kwdpre{list} A) = fv(A)\n",
    "$$\n",
    "\n",
    "Z dodajanjem novih oblik tipov je vedno več enačb \"nerešljivih\", saj nimajo ujemajočih oblik.\n",
    "\n",
    "\n",
    "\n",
    "\n",
    "\n",
    "\n",
    "## Naloga 3\n",
    "\n",
    "Izpeljite tip funkcije `map`. Napišite še kakšen program, ki uporablja konstrukte iz naloge 2 in mu določite tip."
   ]
  }
 ],
 "metadata": {
  "jupytext": {
   "text_representation": {
    "extension": ".md",
    "format_name": "myst",
    "format_version": 0.12,
    "jupytext_version": "1.8.0"
   }
  },
  "kernelspec": {
   "display_name": "OCaml 4.11",
   "language": "OCaml",
   "name": "ocaml-jupyter"
  },
  "language_info": {
   "codemirror_mode": "text/x-ocaml",
   "file_extension": ".ml",
   "mimetype": "text/x-ocaml",
   "name": "OCaml",
   "nbconverter_exporter": null,
   "pygments_lexer": "OCaml",
   "version": "4.14.1"
  },
  "source_map": [
   12,
   16,
   22
  ]
 },
 "nbformat": 4,
 "nbformat_minor": 5
}